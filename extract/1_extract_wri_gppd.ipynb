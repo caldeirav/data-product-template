{
 "cells": [
  {
   "cell_type": "markdown",
   "id": "f3f25610-ad0f-4740-b898-a9e0fcd53aa2",
   "metadata": {},
   "source": [
    "# Power Plant Data Product: Extraction Step 1\n",
    "\n",
    "This notebook covers the first step of the extraction pipeline:\n",
    "* Get external source CSV and associated files from WRI Global Power Plant Database versioned in DVC\n",
    "* Verify that the file can be accessed for the next step which is data loading\n",
    "\n",
    "Permission is hereby granted, free of charge, to any person obtaining a copy of this software and associated documentation files (the \"Software\"), to deal in the Software without restriction, including without limitation the rights to use, copy, modify, merge, publish, distribute, sublicense, and/or sell copies of the Software, and to permit persons to whom the Software is furnished to do so, subject to the following conditions:\n",
    "\n",
    "The above copyright notice and this permission notice shall be included in all copies or substantial portions of the Software.\n",
    "\n",
    "THE SOFTWARE IS PROVIDED \"AS IS\", WITHOUT WARRANTY OF ANY KIND, EXPRESS OR IMPLIED, INCLUDING BUT NOT LIMITED TO THE WARRANTIES OF MERCHANTABILITY, FITNESS FOR A PARTICULAR PURPOSE AND NONINFRINGEMENT. IN NO EVENT SHALL THE AUTHORS OR COPYRIGHT HOLDERS BE LIABLE FOR ANY CLAIM, DAMAGES OR OTHER LIABILITY, WHETHER IN AN ACTION OF CONTRACT, TORT OR OTHERWISE, ARISING FROM, OUT OF OR IN CONNECTION WITH THE SOFTWARE OR THE USE OR OTHER DEALINGS IN THE SOFTWARE."
   ]
  },
  {
   "cell_type": "code",
   "execution_count": 1,
   "id": "c05b3806-2293-48a1-8c31-bd28f121e8ba",
   "metadata": {},
   "outputs": [
    {
     "name": "stdout",
     "output_type": "stream",
     "text": [
      "Exception reporting mode: Minimal\n"
     ]
    }
   ],
   "source": [
    "# Report exceptions only in cells output\n",
    "%xmode Minimal"
   ]
  },
  {
   "cell_type": "code",
   "execution_count": 2,
   "id": "161992e0-45da-4912-b91e-f97b0030e4ab",
   "metadata": {},
   "outputs": [],
   "source": [
    "# For loading predefined environment variables from files\n",
    "# including sensitive access credentials in Development environment\n",
    "from dotenv import load_dotenv\n",
    "import os\n",
    "import pathlib\n",
    "\n",
    "# For retrieving versioned data files in bringing them into the local filesystem\n",
    "# Reference documentation at: https://dvc.org/doc/api-reference/dvcfilesystem\n",
    "import dvc.api\n",
    "from dvc.api import DVCFileSystem"
   ]
  },
  {
   "cell_type": "markdown",
   "id": "8e8e8b69-6f29-4f3c-b05d-8ee2e780ea9f",
   "metadata": {},
   "source": [
    "Define Environment and Execution Variables"
   ]
  },
  {
   "cell_type": "code",
   "execution_count": 3,
   "id": "1e785101-ad84-4382-a725-8bb0c1280ed8",
   "metadata": {},
   "outputs": [],
   "source": [
    "# Load environment variables from credentials.env\n",
    "dotenv_dir = os.environ.get('CREDENTIAL_DOTENV_DIR', os.environ.get('PWD', '/opt/app-root/src'))\n",
    "dotenv_path = pathlib.Path(dotenv_dir) / 'credentials.env'\n",
    "if os.path.exists(dotenv_path):\n",
    "    load_dotenv(dotenv_path=dotenv_path,override=True)"
   ]
  },
  {
   "cell_type": "markdown",
   "id": "f6fa6a93-929e-46ba-82a2-3783c3663615",
   "metadata": {},
   "source": [
    "Connect to DVC repository holding raw source data, and list all files"
   ]
  },
  {
   "cell_type": "code",
   "execution_count": 4,
   "id": "cdd8855a-6ce1-4963-a80a-7682f07da346",
   "metadata": {},
   "outputs": [],
   "source": [
    "# opening the remote repository\n",
    "fs = DVCFileSystem()"
   ]
  },
  {
   "cell_type": "code",
   "execution_count": 5,
   "id": "3946bafa-57be-493f-be17-a53e5dfd49a2",
   "metadata": {},
   "outputs": [
    {
     "data": {
      "text/plain": [
       "['/data/.gitkeep',\n",
       " '/data/global_power_plant_database_v_1_3/A_Global_Database_of_Power_Plants.pdf',\n",
       " '/data/global_power_plant_database_v_1_3/Estimating_Power_Plant_Generation_in_the_Global_Power_Plant_Database.pdf',\n",
       " '/data/global_power_plant_database_v_1_3/README.txt',\n",
       " '/data/global_power_plant_database_v_1_3/RELEASE_NOTES.txt',\n",
       " '/data/global_power_plant_database_v_1_3/global_power_plant_database.csv']"
      ]
     },
     "execution_count": 5,
     "metadata": {},
     "output_type": "execute_result"
    }
   ],
   "source": [
    "fs.find(\"/\", detail=False, dvc_only=True)"
   ]
  },
  {
   "cell_type": "markdown",
   "id": "df46d990-99d0-47f5-988d-caa7f7f8332c",
   "metadata": {},
   "source": [
    "Download data and source files locally in order to facilitate data loading in next step"
   ]
  },
  {
   "cell_type": "code",
   "execution_count": 6,
   "id": "7d094b0f-ca7c-4bb5-a78d-6e55b28c84fe",
   "metadata": {},
   "outputs": [],
   "source": [
    "# Download all files in a local data subdirectory recursively\n",
    "fs.get(\"/data\", \"../\", recursive=True)"
   ]
  },
  {
   "cell_type": "code",
   "execution_count": 7,
   "id": "2aa19a04-7235-4af5-b41c-c5187b80cc56",
   "metadata": {},
   "outputs": [
    {
     "name": "stdout",
     "output_type": "stream",
     "text": [
      "Files and directories in ' ../data ' :\n",
      "['.gitkeep', '.ipynb_checkpoints', 'global_power_plant_database_v_1_3']\n"
     ]
    }
   ],
   "source": [
    "# Get the list of all files and directories in local data subdirectory\n",
    "path = \"../data\"\n",
    "dir_list = os.listdir(path)\n",
    "print(\"Files and directories in '\", path, \"' :\")\n",
    "# prints all files\n",
    "print(dir_list)"
   ]
  },
  {
   "cell_type": "code",
   "execution_count": null,
   "id": "7504dfa8-00e6-4975-a80d-73d7004bb509",
   "metadata": {},
   "outputs": [],
   "source": []
  }
 ],
 "metadata": {
  "kernelspec": {
   "display_name": "Python 3 (ipykernel)",
   "language": "python",
   "name": "python3"
  },
  "language_info": {
   "codemirror_mode": {
    "name": "ipython",
    "version": 3
   },
   "file_extension": ".py",
   "mimetype": "text/x-python",
   "name": "python",
   "nbconvert_exporter": "python",
   "pygments_lexer": "ipython3",
   "version": "3.11.6"
  }
 },
 "nbformat": 4,
 "nbformat_minor": 5
}
