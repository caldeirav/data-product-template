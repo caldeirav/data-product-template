{
 "cells": [
  {
   "cell_type": "markdown",
   "id": "f3f25610-ad0f-4740-b898-a9e0fcd53aa2",
   "metadata": {},
   "source": [
    "# Power Plant Data Product: Extraction Step 1\n",
    "\n",
    "This notebook covers the first step of the extraction pipeline:\n",
    "* Load external source CSV source from WRI Global Power Plant Database\n",
    "* Connect to pachyderm service, create a new repository if need be and check in source data\n",
    "* Verify that the file can be accessed for the next step which is data loading\n",
    "\n",
    "Permission is hereby granted, free of charge, to any person obtaining a copy of this software and associated documentation files (the \"Software\"), to deal in the Software without restriction, including without limitation the rights to use, copy, modify, merge, publish, distribute, sublicense, and/or sell copies of the Software, and to permit persons to whom the Software is furnished to do so, subject to the following conditions:\n",
    "\n",
    "The above copyright notice and this permission notice shall be included in all copies or substantial portions of the Software.\n",
    "\n",
    "THE SOFTWARE IS PROVIDED \"AS IS\", WITHOUT WARRANTY OF ANY KIND, EXPRESS OR IMPLIED, INCLUDING BUT NOT LIMITED TO THE WARRANTIES OF MERCHANTABILITY, FITNESS FOR A PARTICULAR PURPOSE AND NONINFRINGEMENT. IN NO EVENT SHALL THE AUTHORS OR COPYRIGHT HOLDERS BE LIABLE FOR ANY CLAIM, DAMAGES OR OTHER LIABILITY, WHETHER IN AN ACTION OF CONTRACT, TORT OR OTHERWISE, ARISING FROM, OUT OF OR IN CONNECTION WITH THE SOFTWARE OR THE USE OR OTHER DEALINGS IN THE SOFTWARE."
   ]
  },
  {
   "cell_type": "code",
   "execution_count": 1,
   "id": "c05b3806-2293-48a1-8c31-bd28f121e8ba",
   "metadata": {},
   "outputs": [
    {
     "name": "stdout",
     "output_type": "stream",
     "text": [
      "Exception reporting mode: Minimal\n"
     ]
    }
   ],
   "source": [
    "# Report exceptions only in cells output\n",
    "%xmode Minimal"
   ]
  },
  {
   "cell_type": "code",
   "execution_count": 2,
   "id": "161992e0-45da-4912-b91e-f97b0030e4ab",
   "metadata": {},
   "outputs": [],
   "source": [
    "# For loading predefined environment variables from files\n",
    "# including sensitive access credentials in Development environment\n",
    "from dotenv import load_dotenv\n",
    "\n",
    "import os\n",
    "import pathlib\n",
    "import python_pachyderm"
   ]
  },
  {
   "cell_type": "markdown",
   "id": "8e8e8b69-6f29-4f3c-b05d-8ee2e780ea9f",
   "metadata": {},
   "source": [
    "Define Environment and Execution Variables"
   ]
  },
  {
   "cell_type": "code",
   "execution_count": 3,
   "id": "1e785101-ad84-4382-a725-8bb0c1280ed8",
   "metadata": {},
   "outputs": [],
   "source": [
    "# Load environment variables from credentials.env\n",
    "dotenv_dir = os.environ.get('CREDENTIAL_DOTENV_DIR', os.environ.get('PWD', '/opt/app-root/src'))\n",
    "dotenv_path = pathlib.Path(dotenv_dir) / 'credentials.env'\n",
    "if os.path.exists(dotenv_path):\n",
    "    load_dotenv(dotenv_path=dotenv_path,override=True)"
   ]
  },
  {
   "cell_type": "markdown",
   "id": "f6fa6a93-929e-46ba-82a2-3783c3663615",
   "metadata": {},
   "source": [
    "Read the data directory holding raw source data, and list all files"
   ]
  },
  {
   "cell_type": "code",
   "execution_count": 4,
   "id": "db05ee59-2dcd-4701-9ea3-527902791bce",
   "metadata": {},
   "outputs": [
    {
     "name": "stdout",
     "output_type": "stream",
     "text": [
      "A_Global_Database_of_Power_Plants.pdf\n",
      "Estimating_Power_Plant_Generation_in_the_Global_Power_Plant_Database.pdf\n",
      "README.txt\n",
      "RELEASE_NOTES.txt\n",
      "global_power_plant_database.csv\n"
     ]
    }
   ],
   "source": [
    "path = '../data/global_power_plant_database_v_1_3/'\n",
    "files = os.listdir(path)\n",
    "for f in files:\n",
    "    print(f)"
   ]
  },
  {
   "cell_type": "markdown",
   "id": "deae859a-20d9-479f-b331-90502842e193",
   "metadata": {},
   "source": [
    "Connect to Pachyderm service using the Python client, create a new repo and check in the source files"
   ]
  },
  {
   "cell_type": "code",
   "execution_count": 5,
   "id": "1200fa03-5a23-405e-826c-d8f69065ce12",
   "metadata": {},
   "outputs": [],
   "source": [
    "# Create a pachyderm client by manually setting up host and port\n",
    "client = python_pachyderm.Client(os.environ['PACH_ENDPOINT'], os.environ['PACH_PORT'])"
   ]
  },
  {
   "cell_type": "code",
   "execution_count": 6,
   "id": "bbd7e846-edae-4f26-a7ac-4fd7101a277e",
   "metadata": {},
   "outputs": [],
   "source": [
    "# Create a new pachyderm repo called `gppd`\n",
    "client.create_repo(\"wri-gppd\")"
   ]
  },
  {
   "cell_type": "code",
   "execution_count": 7,
   "id": "26724770-78d4-4f8d-9096-b011b911075e",
   "metadata": {},
   "outputs": [
    {
     "name": "stdout",
     "output_type": "stream",
     "text": [
      "[repo {\n",
      "  name: \"wri-gppd\"\n",
      "  type: \"user\"\n",
      "  project {\n",
      "  }\n",
      "}\n",
      "created {\n",
      "  seconds: 1687256504\n",
      "  nanos: 671215000\n",
      "}\n",
      "]\n"
     ]
    }
   ],
   "source": [
    "# Display list of repos\n",
    "print(list(client.list_repo()))"
   ]
  },
  {
   "cell_type": "code",
   "execution_count": 8,
   "id": "da287bc2-a941-48e1-82ca-4f8c725a6736",
   "metadata": {},
   "outputs": [],
   "source": [
    "with client.commit(\"wri-gppd\", \"master\") as commit:\n",
    "        # Add all the files, recursively inserting from the directory\n",
    "        # Alternatively, we could use `client.put_file_url` or\n",
    "        # `client_put_file_bytes`.\n",
    "        python_pachyderm.put_files(client, path, commit, \"/global_power_plant_database_v_1_3/\")"
   ]
  },
  {
   "cell_type": "code",
   "execution_count": 9,
   "id": "fc45482d-5cb7-4591-9120-9471a96c3760",
   "metadata": {},
   "outputs": [
    {
     "name": "stdout",
     "output_type": "stream",
     "text": [
      "[file {\n",
      "  commit {\n",
      "    branch {\n",
      "      repo {\n",
      "        name: \"wri-gppd\"\n",
      "        type: \"user\"\n",
      "        project {\n",
      "        }\n",
      "      }\n",
      "      name: \"master\"\n",
      "    }\n",
      "    id: \"2551a4e5227b418bb6f0f75f74577372\"\n",
      "  }\n",
      "  path: \"/global_power_plant_database_v_1_3/A_Global_Database_of_Power_Plants.pdf\"\n",
      "  datum: \"default\"\n",
      "}\n",
      "file_type: FILE\n",
      "committed {\n",
      "  seconds: 1687256511\n",
      "  nanos: 860898000\n",
      "}\n",
      "size_bytes: 1441800\n",
      "hash: \".M\\370\\311\\026`\\334\\001\\000?\\342>B\\0351\\373\\021\\322\\276\\205\\025\\231\\200\\262\\270\\\"H\\330|\\260\\314\\037\"\n",
      ", file {\n",
      "  commit {\n",
      "    branch {\n",
      "      repo {\n",
      "        name: \"wri-gppd\"\n",
      "        type: \"user\"\n",
      "        project {\n",
      "        }\n",
      "      }\n",
      "      name: \"master\"\n",
      "    }\n",
      "    id: \"2551a4e5227b418bb6f0f75f74577372\"\n",
      "  }\n",
      "  path: \"/global_power_plant_database_v_1_3/Estimating_Power_Plant_Generation_in_the_Global_Power_Plant_Database.pdf\"\n",
      "  datum: \"default\"\n",
      "}\n",
      "file_type: FILE\n",
      "committed {\n",
      "  seconds: 1687256511\n",
      "  nanos: 860898000\n",
      "}\n",
      "size_bytes: 1685244\n",
      "hash: \"\\331\\241\\363O-\\021\\232\\362r\\375P\\313\\235\\356\\363\\223\\342\\235(R\\022\\365\\237\\375`xn%\\326\\241\\363\\342\"\n",
      ", file {\n",
      "  commit {\n",
      "    branch {\n",
      "      repo {\n",
      "        name: \"wri-gppd\"\n",
      "        type: \"user\"\n",
      "        project {\n",
      "        }\n",
      "      }\n",
      "      name: \"master\"\n",
      "    }\n",
      "    id: \"2551a4e5227b418bb6f0f75f74577372\"\n",
      "  }\n",
      "  path: \"/global_power_plant_database_v_1_3/README.txt\"\n",
      "  datum: \"default\"\n",
      "}\n",
      "file_type: FILE\n",
      "committed {\n",
      "  seconds: 1687256511\n",
      "  nanos: 860898000\n",
      "}\n",
      "size_bytes: 10659\n",
      "hash: \"\\017\\222\\267U\\275\\026\\010\\252\\034\\331$\\005d\\311^\\304\\246\\001\\263\\024\\233r\\374\\355 \\364!@\\237\\353T\\321\"\n",
      ", file {\n",
      "  commit {\n",
      "    branch {\n",
      "      repo {\n",
      "        name: \"wri-gppd\"\n",
      "        type: \"user\"\n",
      "        project {\n",
      "        }\n",
      "      }\n",
      "      name: \"master\"\n",
      "    }\n",
      "    id: \"2551a4e5227b418bb6f0f75f74577372\"\n",
      "  }\n",
      "  path: \"/global_power_plant_database_v_1_3/RELEASE_NOTES.txt\"\n",
      "  datum: \"default\"\n",
      "}\n",
      "file_type: FILE\n",
      "committed {\n",
      "  seconds: 1687256511\n",
      "  nanos: 860898000\n",
      "}\n",
      "size_bytes: 1547\n",
      "hash: \"0\\270\\222\\320fH:\\365%\\253\\304\\023M\\234%\\3663;\\002\\374p\\362\\312\\220\\r\\033z=\\351\\361\\257\\310\"\n",
      ", file {\n",
      "  commit {\n",
      "    branch {\n",
      "      repo {\n",
      "        name: \"wri-gppd\"\n",
      "        type: \"user\"\n",
      "        project {\n",
      "        }\n",
      "      }\n",
      "      name: \"master\"\n",
      "    }\n",
      "    id: \"2551a4e5227b418bb6f0f75f74577372\"\n",
      "  }\n",
      "  path: \"/global_power_plant_database_v_1_3/global_power_plant_database.csv\"\n",
      "  datum: \"default\"\n",
      "}\n",
      "file_type: FILE\n",
      "committed {\n",
      "  seconds: 1687256511\n",
      "  nanos: 860898000\n",
      "}\n",
      "size_bytes: 11973385\n",
      "hash: \"\\304|:tF\\261\\020&\\267;\\340\\217\\241U\\361;\\030le \\024\\200\\021\\363R\\230t\\003\\\"5\\261\\363\"\n",
      "]\n"
     ]
    }
   ],
   "source": [
    "# Check the file commit\n",
    "print(list(client.list_file((\"wri-gppd\",\"master\"), \"/global_power_plant_database_v_1_3/\")))"
   ]
  },
  {
   "cell_type": "code",
   "execution_count": 10,
   "id": "09917ed2-a9bc-469b-87bc-b093c11ea39c",
   "metadata": {},
   "outputs": [],
   "source": [
    "# Delete pachyderm repo called `wri-gppd`\n",
    "# Only required if you need to run the pipeline again\n",
    "# client.delete_repo(\"wri-gppd\")"
   ]
  },
  {
   "cell_type": "code",
   "execution_count": null,
   "id": "0aa9a34c-9755-4b89-b76b-581fe7eb78b7",
   "metadata": {},
   "outputs": [],
   "source": []
  }
 ],
 "metadata": {
  "kernelspec": {
   "display_name": "Python 3 (ipykernel)",
   "language": "python",
   "name": "python3"
  },
  "language_info": {
   "codemirror_mode": {
    "name": "ipython",
    "version": 3
   },
   "file_extension": ".py",
   "mimetype": "text/x-python",
   "name": "python",
   "nbconvert_exporter": "python",
   "pygments_lexer": "ipython3",
   "version": "3.8.16"
  }
 },
 "nbformat": 4,
 "nbformat_minor": 5
}
