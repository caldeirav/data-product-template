{
 "cells": [
  {
   "cell_type": "markdown",
   "id": "f3f25610-ad0f-4740-b898-a9e0fcd53aa2",
   "metadata": {},
   "source": [
    "# Power Plant Data Product: Data Loading Step 2\n",
    "\n",
    "This notebook covers the second step of the pipeline:\n",
    "* Load versioned source data from Pachyderm\n",
    "* Get data into a dataframe \n",
    "* Create a Trino client and load the data\n",
    "\n",
    "Permission is hereby granted, free of charge, to any person obtaining a copy of this software and associated documentation files (the \"Software\"), to deal in the Software without restriction, including without limitation the rights to use, copy, modify, merge, publish, distribute, sublicense, and/or sell copies of the Software, and to permit persons to whom the Software is furnished to do so, subject to the following conditions:\n",
    "\n",
    "The above copyright notice and this permission notice shall be included in all copies or substantial portions of the Software.\n",
    "\n",
    "THE SOFTWARE IS PROVIDED \"AS IS\", WITHOUT WARRANTY OF ANY KIND, EXPRESS OR IMPLIED, INCLUDING BUT NOT LIMITED TO THE WARRANTIES OF MERCHANTABILITY, FITNESS FOR A PARTICULAR PURPOSE AND NONINFRINGEMENT. IN NO EVENT SHALL THE AUTHORS OR COPYRIGHT HOLDERS BE LIABLE FOR ANY CLAIM, DAMAGES OR OTHER LIABILITY, WHETHER IN AN ACTION OF CONTRACT, TORT OR OTHERWISE, ARISING FROM, OUT OF OR IN CONNECTION WITH THE SOFTWARE OR THE USE OR OTHER DEALINGS IN THE SOFTWARE."
   ]
  },
  {
   "cell_type": "code",
   "execution_count": null,
   "id": "3fcc12b1-067c-4eb7-bd7f-63aa8c3b0667",
   "metadata": {},
   "outputs": [],
   "source": [
    "# Report exceptions only in cells output\n",
    "%xmode Minimal"
   ]
  },
  {
   "cell_type": "code",
   "execution_count": null,
   "id": "161992e0-45da-4912-b91e-f97b0030e4ab",
   "metadata": {},
   "outputs": [],
   "source": [
    "from dotenv import dotenv_values, load_dotenv\n",
    "import os\n",
    "import pathlib\n",
    "import socket\n",
    "from pyspark import SparkConf , SparkContext, SparkFiles\n",
    "from pyspark.sql import SparkSession, Row\n",
    "import pandas as pd\n",
    "import trino\n",
    "from sqlalchemy import create_engine, text"
   ]
  },
  {
   "cell_type": "markdown",
   "id": "8e8e8b69-6f29-4f3c-b05d-8ee2e780ea9f",
   "metadata": {},
   "source": [
    "Define Environment and Execution Variables"
   ]
  },
  {
   "cell_type": "code",
   "execution_count": null,
   "id": "1e785101-ad84-4382-a725-8bb0c1280ed8",
   "metadata": {},
   "outputs": [],
   "source": [
    "# Load environment variables from credentials.env\n",
    "dotenv_dir = os.environ.get('CREDENTIAL_DOTENV_DIR', os.environ.get('PWD', '/opt/app-root/src'))\n",
    "dotenv_path = pathlib.Path(dotenv_dir) / 'credentials.env'\n",
    "if os.path.exists(dotenv_path):\n",
    "    load_dotenv(dotenv_path=dotenv_path,override=True)"
   ]
  },
  {
   "cell_type": "markdown",
   "id": "deae859a-20d9-479f-b331-90502842e193",
   "metadata": {},
   "source": [
    "Read the data directory holding raw source data pulled from DVC, and list all files"
   ]
  },
  {
   "cell_type": "code",
   "execution_count": null,
   "id": "f07f1bb4-d6a7-410c-b83f-1acad8c1ea08",
   "metadata": {},
   "outputs": [],
   "source": [
    "path = '../data/global_power_plant_database_v_1_3/'\n",
    "files = os.listdir(path)\n",
    "for f in files:\n",
    "    print(f)"
   ]
  },
  {
   "cell_type": "code",
   "execution_count": null,
   "id": "f96fb63c-7024-478f-b972-69479d7f6260",
   "metadata": {},
   "outputs": [],
   "source": [
    "srcdata = str(pathlib.Path('../data/global_power_plant_database_v_1_3/global_power_plant_database.csv').absolute())\n",
    "print(srcdata)"
   ]
  },
  {
   "cell_type": "markdown",
   "id": "0123e666-8e0d-4b1f-95ee-ea3f2a35dff7",
   "metadata": {},
   "source": [
    "Create a connection to Spark cluster"
   ]
  },
  {
   "cell_type": "code",
   "execution_count": null,
   "id": "c68ba069-fd29-4a60-b52d-15a92d24f699",
   "metadata": {},
   "outputs": [],
   "source": [
    "SPARK_SERVER = os.environ['SPARK_SERVER']\n",
    "SPARK_CONNECT_PORT = os.environ['SPARK_CONNECT_PORT']"
   ]
  },
  {
   "cell_type": "code",
   "execution_count": null,
   "id": "50c3ef03-2862-42b9-babf-8ee2f18560cc",
   "metadata": {},
   "outputs": [],
   "source": [
    "SPARK_CONNECT_URL = f'sc://{SPARK_SERVER}:{SPARK_CONNECT_PORT}'\n",
    "conf = SparkConf() \\\n",
    "    .setAppName(\"Spark App\") \\\n",
    "    .setMaster(SPARK_CONNECT_URL) \\\n",
    "    .set(\"spark.driver.host\", socket.gethostbyname(socket.gethostname()))\\\n",
    "    .set(\"spark.driver.port\", \"10027\") \n",
    "\n",
    "spark = SparkSession.builder.config(conf=conf).enableHiveSupport().getOrCreate()"
   ]
  },
  {
   "cell_type": "code",
   "execution_count": null,
   "id": "4f234535-2884-4b9c-a899-848ab0ff8288",
   "metadata": {},
   "outputs": [],
   "source": [
    "spark"
   ]
  },
  {
   "cell_type": "markdown",
   "id": "6ee64939-1e6b-414b-b14e-1c75b6b7019f",
   "metadata": {},
   "source": [
    "Create a Spark dataframe from the CSV file (temporary workaround via pandas)"
   ]
  },
  {
   "cell_type": "code",
   "execution_count": null,
   "id": "5be8d2d8-e326-434f-9485-81457dba1770",
   "metadata": {},
   "outputs": [],
   "source": [
    "df = pd.read_csv(srcdata, low_memory=False).convert_dtypes()"
   ]
  },
  {
   "cell_type": "code",
   "execution_count": null,
   "id": "b500cfbd-3d68-4cee-b908-89a5c42c83e3",
   "metadata": {},
   "outputs": [],
   "source": [
    "print(df.info(verbose=True))"
   ]
  },
  {
   "cell_type": "code",
   "execution_count": null,
   "id": "7c7ec44a-78c9-4ae9-b28f-926224847b55",
   "metadata": {},
   "outputs": [],
   "source": [
    "spark_df = spark.createDataFrame(df)"
   ]
  },
  {
   "cell_type": "code",
   "execution_count": null,
   "id": "46bc1a0f-b96c-4ee2-9e1c-cb453387563d",
   "metadata": {},
   "outputs": [],
   "source": [
    "df.head()"
   ]
  },
  {
   "cell_type": "code",
   "execution_count": null,
   "id": "3d14e124-4e54-427a-a815-2a73eddeb924",
   "metadata": {},
   "outputs": [],
   "source": [
    "spark_df.printSchema()"
   ]
  },
  {
   "cell_type": "markdown",
   "id": "0d97c299-77d3-4c04-8561-7d59bdc3089c",
   "metadata": {},
   "source": [
    "Write the dataframe into Iceberg"
   ]
  },
  {
   "cell_type": "code",
   "execution_count": null,
   "id": "e09dd241-5f79-4a00-b181-0bfae1430ebb",
   "metadata": {},
   "outputs": [],
   "source": [
    "try:\n",
    "    spark_df.writeTo(\"datamesh.wri_gppd.gppd_source\").createOrReplace()\n",
    "    print(\"Data written to Iceberg table successfully.\" )\n",
    "except Exception as e:\n",
    "    print(\"Error writing data to Iceberg table:\", str(e))"
   ]
  },
  {
   "cell_type": "markdown",
   "id": "3de49f3a-d729-4af4-9edc-224fc7356ea9",
   "metadata": {},
   "source": [
    "Connect to Trino and ensure the data is loaded"
   ]
  },
  {
   "cell_type": "code",
   "execution_count": null,
   "id": "edc9ff36-00e0-47b2-87e3-1c908e72facd",
   "metadata": {},
   "outputs": [],
   "source": [
    "# Define execution variables for Iceberg / Trino\n",
    "ingest_catalog = 'hive'\n",
    "ingest_schema = 'wri_gppd'\n",
    "ingest_table = 'gppd_source'"
   ]
  },
  {
   "cell_type": "code",
   "execution_count": null,
   "id": "e3125725-d019-439d-b470-10943060bdea",
   "metadata": {},
   "outputs": [],
   "source": [
    "# Create a connection to Trino using an SQLAlchemy Engine\n",
    "# Documentation: https://docs.sqlalchemy.org/en/20/core/engines.html#sqlalchemy.create_engine\n",
    "engine = create_engine(\n",
    "    'trino://' + os.environ['TRINO_USER'] + ':' + os.environ['TRINO_PASSWD']\n",
    "    + '@' + os.environ['TRINO_HOST'] + ':' + os.environ['TRINO_PORT']\n",
    ")"
   ]
  },
  {
   "cell_type": "code",
   "execution_count": null,
   "id": "66769777-ab0b-410d-80a2-cc5b0cff0276",
   "metadata": {},
   "outputs": [],
   "source": [
    "engine.connect"
   ]
  },
  {
   "cell_type": "code",
   "execution_count": null,
   "id": "9f00f8a8-b809-4376-ba1b-eb3a256febc7",
   "metadata": {},
   "outputs": [],
   "source": [
    "# Show existing catalogs in Trino to make sure the connection works fine\n",
    "with engine.connect() as connection:\n",
    "    result = connection.execute(text('show catalogs'))\n",
    "    for row in result:\n",
    "        print(row)"
   ]
  },
  {
   "cell_type": "code",
   "execution_count": null,
   "id": "2cb4b34d-6f8d-4758-9420-8767c77e2d12",
   "metadata": {},
   "outputs": [],
   "source": [
    "# Show available schemas\n",
    "schema_show_sql = f\"\"\"\n",
    "show schemas in {ingest_catalog}\n",
    "\"\"\"\n",
    "with engine.connect() as connection:\n",
    "    result = connection.execute(text(schema_show_sql))\n",
    "    for row in result:\n",
    "        print(row)"
   ]
  },
  {
   "cell_type": "code",
   "execution_count": null,
   "id": "34f389f2-9dd4-4e15-9781-37ee651a662c",
   "metadata": {},
   "outputs": [],
   "source": [
    "# Show available tables\n",
    "tables_show_sql = f\"\"\"\n",
    "show tables from {ingest_catalog}.{ingest_schema}\n",
    "\"\"\"\n",
    "with engine.connect() as connection:\n",
    "    result = connection.execute(text(tables_show_sql))\n",
    "    for row in result:\n",
    "        print(row)"
   ]
  },
  {
   "cell_type": "code",
   "execution_count": null,
   "id": "339c384b-5297-45da-94b8-110a46fd626a",
   "metadata": {},
   "outputs": [],
   "source": [
    "# Query table to verify insertion was successful\n",
    "select_query = f\"\"\"\n",
    "select * from {ingest_catalog}.{ingest_schema}.{ingest_table}\n",
    "\"\"\"\n",
    "print(select_query)\n",
    "with engine.connect() as connection:\n",
    "    result = connection.execute(text(select_query)).fetchmany(10)\n",
    "    for row in result:\n",
    "        print(row)"
   ]
  },
  {
   "cell_type": "code",
   "execution_count": null,
   "id": "8eb5d613-7d0e-4b3a-ba62-d9ae71a0f331",
   "metadata": {},
   "outputs": [],
   "source": []
  }
 ],
 "metadata": {
  "kernelspec": {
   "display_name": "Python 3 (ipykernel)",
   "language": "python",
   "name": "python3"
  },
  "language_info": {
   "codemirror_mode": {
    "name": "ipython",
    "version": 3
   },
   "file_extension": ".py",
   "mimetype": "text/x-python",
   "name": "python",
   "nbconvert_exporter": "python",
   "pygments_lexer": "ipython3",
   "version": "3.11.6"
  }
 },
 "nbformat": 4,
 "nbformat_minor": 5
}
